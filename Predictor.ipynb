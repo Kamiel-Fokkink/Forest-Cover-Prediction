{
 "cells": [
  {
   "cell_type": "code",
   "execution_count": 1,
   "id": "632168b7",
   "metadata": {},
   "outputs": [
    {
     "name": "stderr",
     "output_type": "stream",
     "text": [
      "/Users/kamielfokkink/opt/anaconda3/envs/Databases/lib/python3.8/site-packages/xgboost/compat.py:36: FutureWarning: pandas.Int64Index is deprecated and will be removed from pandas in a future version. Use pandas.Index with the appropriate dtype instead.\n",
      "  from pandas import MultiIndex, Int64Index\n"
     ]
    }
   ],
   "source": [
    "#Make necessary imports\n",
    "\n",
    "import pandas as pd\n",
    "import numpy as np\n",
    "from sklearn.experimental import enable_hist_gradient_boosting\n",
    "from sklearn.ensemble import RandomForestClassifier, HistGradientBoostingClassifier\n",
    "from sklearn.pipeline import make_pipeline\n",
    "from xgboost import XGBClassifier\n",
    "from sklearn.compose import ColumnTransformer\n",
    "import FeatureEngineering as fe"
   ]
  },
  {
   "cell_type": "code",
   "execution_count": 2,
   "id": "6381eb7b",
   "metadata": {},
   "outputs": [],
   "source": [
    "#Load in data\n",
    "\n",
    "train_data = pd.read_csv(\"data/train.csv\")\n",
    "test_data = pd.read_csv(\"data/test-full.csv\")"
   ]
  },
  {
   "cell_type": "code",
   "execution_count": 13,
   "id": "352ecd14",
   "metadata": {},
   "outputs": [],
   "source": [
    "fe_train_data = fe.transformSoilType(train_data)\n",
    "fe_test_data = fe.transformSoilType(test_data)"
   ]
  },
  {
   "cell_type": "code",
   "execution_count": 3,
   "id": "a9b31c18",
   "metadata": {},
   "outputs": [],
   "source": [
    "pca_train = fe.PCAtransform(train_data, 40)\n",
    "pca_test = fe.PCAtransform(test_data, 40)"
   ]
  },
  {
   "cell_type": "code",
   "execution_count": 4,
   "id": "e1d5098c",
   "metadata": {},
   "outputs": [],
   "source": [
    "#classifier = RandomForestClassifier()\n",
    "classifier = XGBClassifier()\n",
    "#classifier = HistGradientBoostingClassifier()\n",
    "\n",
    "pipe = make_pipeline(\n",
    "    classifier\n",
    ")"
   ]
  },
  {
   "cell_type": "code",
   "execution_count": 5,
   "id": "e4eec52e",
   "metadata": {},
   "outputs": [
    {
     "name": "stderr",
     "output_type": "stream",
     "text": [
      "/Users/kamielfokkink/opt/anaconda3/envs/Databases/lib/python3.8/site-packages/xgboost/sklearn.py:1224: UserWarning: The use of label encoder in XGBClassifier is deprecated and will be removed in a future release. To remove this warning, do the following: 1) Pass option use_label_encoder=False when constructing XGBClassifier object; and 2) Encode your labels (y) as integers starting with 0, i.e. 0, 1, 2, ..., [num_class - 1].\n",
      "  warnings.warn(label_encoder_deprecation_msg, UserWarning)\n",
      "/Users/kamielfokkink/opt/anaconda3/envs/Databases/lib/python3.8/site-packages/xgboost/data.py:262: FutureWarning: pandas.Int64Index is deprecated and will be removed from pandas in a future version. Use pandas.Index with the appropriate dtype instead.\n",
      "  elif isinstance(data.columns, (pd.Int64Index, pd.RangeIndex)):\n"
     ]
    },
    {
     "name": "stdout",
     "output_type": "stream",
     "text": [
      "[19:56:24] WARNING: /Users/runner/miniforge3/conda-bld/xgboost-split_1645117948562/work/src/learner.cc:1115: Starting in XGBoost 1.3.0, the default evaluation metric used with the objective 'multi:softprob' was changed from 'merror' to 'mlogloss'. Explicitly set eval_metric if you'd like to restore the old behavior.\n"
     ]
    },
    {
     "data": {
      "text/plain": [
       "Pipeline(steps=[('xgbclassifier',\n",
       "                 XGBClassifier(base_score=0.5, booster='gbtree',\n",
       "                               colsample_bylevel=1, colsample_bynode=1,\n",
       "                               colsample_bytree=1, enable_categorical=False,\n",
       "                               gamma=0, gpu_id=-1, importance_type=None,\n",
       "                               interaction_constraints='',\n",
       "                               learning_rate=0.300000012, max_delta_step=0,\n",
       "                               max_depth=6, min_child_weight=1, missing=nan,\n",
       "                               monotone_constraints='()', n_estimators=100,\n",
       "                               n_jobs=8, num_parallel_tree=1,\n",
       "                               objective='multi:softprob', predictor='auto',\n",
       "                               random_state=0, reg_alpha=0, reg_lambda=1,\n",
       "                               scale_pos_weight=None, subsample=1,\n",
       "                               tree_method='exact', validate_parameters=1,\n",
       "                               verbosity=None))])"
      ]
     },
     "execution_count": 5,
     "metadata": {},
     "output_type": "execute_result"
    }
   ],
   "source": [
    "pipe.fit(pca_train, train_data['Cover_Type'])\n",
    "#pipe.fit(fe_train_data.drop(columns=['Cover_Type']), fe_train_data['Cover_Type'])"
   ]
  },
  {
   "cell_type": "code",
   "execution_count": 6,
   "id": "86d6a2c0",
   "metadata": {},
   "outputs": [],
   "source": [
    "def predict(pipe, data, outfile):\n",
    "    ids = data['Id']\n",
    "    prediction = pipe.predict(data)\n",
    "    output = pd.DataFrame(prediction, index=ids, columns=['Cover_Type'])\n",
    "    output.to_csv(\"submissions/\" + outfile + \".csv\", index=True)"
   ]
  },
  {
   "cell_type": "code",
   "execution_count": 8,
   "id": "7ea9997c",
   "metadata": {},
   "outputs": [],
   "source": [
    "predict(pipe, pca_test, 'XGBClassifier3')"
   ]
  },
  {
   "cell_type": "code",
   "execution_count": null,
   "id": "156f9ecd",
   "metadata": {},
   "outputs": [],
   "source": []
  }
 ],
 "metadata": {
  "kernelspec": {
   "display_name": "Python 3 (ipykernel)",
   "language": "python",
   "name": "python3"
  },
  "language_info": {
   "codemirror_mode": {
    "name": "ipython",
    "version": 3
   },
   "file_extension": ".py",
   "mimetype": "text/x-python",
   "name": "python",
   "nbconvert_exporter": "python",
   "pygments_lexer": "ipython3",
   "version": "3.8.12"
  }
 },
 "nbformat": 4,
 "nbformat_minor": 5
}
