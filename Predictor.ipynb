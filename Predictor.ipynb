{
 "cells": [
  {
   "cell_type": "code",
   "execution_count": 1,
   "id": "632168b7",
   "metadata": {},
   "outputs": [
    {
     "name": "stderr",
     "output_type": "stream",
     "text": [
      "/Users/kamielfokkink/opt/anaconda3/envs/Databases/lib/python3.8/site-packages/xgboost/compat.py:36: FutureWarning: pandas.Int64Index is deprecated and will be removed from pandas in a future version. Use pandas.Index with the appropriate dtype instead.\n",
      "  from pandas import MultiIndex, Int64Index\n"
     ]
    }
   ],
   "source": [
    "#Make necessary imports\n",
    "\n",
    "import pandas as pd\n",
    "from sklearn.experimental import enable_hist_gradient_boosting\n",
    "from sklearn.ensemble import RandomForestClassifier, HistGradientBoostingClassifier\n",
    "from sklearn.pipeline import make_pipeline\n",
    "from xgboost import XGBClassifier\n",
    "from sklearn.compose import ColumnTransformer\n",
    "import FeatureEngineering as fe"
   ]
  },
  {
   "cell_type": "code",
   "execution_count": 2,
   "id": "6381eb7b",
   "metadata": {},
   "outputs": [],
   "source": [
    "#Load in data\n",
    "\n",
    "train_data = pd.read_csv(\"data/train.csv\")\n",
    "test_data = pd.read_csv(\"data/test-full.csv\")"
   ]
  },
  {
   "cell_type": "code",
   "execution_count": 13,
   "id": "352ecd14",
   "metadata": {},
   "outputs": [],
   "source": [
    "fe_train_data = fe.transformSoilType(train_data)\n",
    "fe_test_data = fe.transformSoilType(test_data)"
   ]
  },
  {
   "cell_type": "code",
   "execution_count": 9,
   "id": "e1d5098c",
   "metadata": {},
   "outputs": [],
   "source": [
    "#classifier = RandomForestClassifier()\n",
    "#classifier = XGBClassifier()\n",
    "classifier = HistGradientBoostingClassifier()\n",
    "\n",
    "pipe = make_pipeline(\n",
    "    classifier\n",
    ")"
   ]
  },
  {
   "cell_type": "code",
   "execution_count": 10,
   "id": "e4eec52e",
   "metadata": {},
   "outputs": [
    {
     "data": {
      "text/plain": [
       "Pipeline(steps=[('histgradientboostingclassifier',\n",
       "                 HistGradientBoostingClassifier())])"
      ]
     },
     "execution_count": 10,
     "metadata": {},
     "output_type": "execute_result"
    }
   ],
   "source": [
    "pipe.fit(fe_train_data.drop(columns=['Cover_Type']), fe_train_data['Cover_Type'])"
   ]
  },
  {
   "cell_type": "code",
   "execution_count": 7,
   "id": "86d6a2c0",
   "metadata": {},
   "outputs": [],
   "source": [
    "def predict(pipe, data, outfile):\n",
    "    ids = data['Id']\n",
    "    prediction = pipe.predict(data)\n",
    "    output = pd.DataFrame(prediction, index=ids, columns=['Cover_Type'])\n",
    "    output.to_csv(\"submissions/\" + outfile + \".csv\", index=True)"
   ]
  },
  {
   "cell_type": "code",
   "execution_count": 11,
   "id": "7ea9997c",
   "metadata": {},
   "outputs": [],
   "source": [
    "predict(pipe, fe_test_data, 'HistGradientBoostingClassifier2')"
   ]
  },
  {
   "cell_type": "code",
   "execution_count": null,
   "id": "e2019a61",
   "metadata": {},
   "outputs": [],
   "source": []
  }
 ],
 "metadata": {
  "kernelspec": {
   "display_name": "Python 3 (ipykernel)",
   "language": "python",
   "name": "python3"
  },
  "language_info": {
   "codemirror_mode": {
    "name": "ipython",
    "version": 3
   },
   "file_extension": ".py",
   "mimetype": "text/x-python",
   "name": "python",
   "nbconvert_exporter": "python",
   "pygments_lexer": "ipython3",
   "version": "3.8.12"
  }
 },
 "nbformat": 4,
 "nbformat_minor": 5
}
