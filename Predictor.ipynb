{
 "cells": [
  {
   "cell_type": "code",
   "execution_count": 1,
   "id": "632168b7",
   "metadata": {},
   "outputs": [
    {
     "name": "stderr",
     "output_type": "stream",
     "text": [
      "/Users/kamielfokkink/opt/anaconda3/envs/Databases/lib/python3.8/site-packages/xgboost/compat.py:36: FutureWarning: pandas.Int64Index is deprecated and will be removed from pandas in a future version. Use pandas.Index with the appropriate dtype instead.\n",
      "  from pandas import MultiIndex, Int64Index\n"
     ]
    }
   ],
   "source": [
    "#Make necessary imports\n",
    "\n",
    "import pandas as pd\n",
    "import numpy as np\n",
    "from sklearn.experimental import enable_hist_gradient_boosting\n",
    "from sklearn.ensemble import RandomForestClassifier, HistGradientBoostingClassifier\n",
    "from sklearn.pipeline import make_pipeline\n",
    "from xgboost import XGBClassifier\n",
    "from sklearn.compose import ColumnTransformer\n",
    "import FeatureEngineering as fe"
   ]
  },
  {
   "cell_type": "code",
   "execution_count": 2,
   "id": "6381eb7b",
   "metadata": {},
   "outputs": [],
   "source": [
    "#Load in data\n",
    "\n",
    "train_data = pd.read_csv(\"data/train.csv\")\n",
    "test_data = pd.read_csv(\"data/test-full.csv\")"
   ]
  },
  {
   "cell_type": "code",
   "execution_count": 3,
   "id": "352ecd14",
   "metadata": {},
   "outputs": [],
   "source": [
    "fe_train_data = fe.featureEngineer(train_data, soiltype=True, hydrology=True, cyclical=True, hillshade=True)\n",
    "fe_test_data = fe.featureEngineer(test_data, soiltype=True, hydrology=True, cyclical=True, hillshade=True)"
   ]
  },
  {
   "cell_type": "code",
   "execution_count": 3,
   "id": "a9b31c18",
   "metadata": {},
   "outputs": [],
   "source": [
    "pca_train = fe.PCAtransform(train_data, 40)\n",
    "pca_test = fe.PCAtransform(test_data, 40)"
   ]
  },
  {
   "cell_type": "code",
   "execution_count": 7,
   "id": "e1d5098c",
   "metadata": {},
   "outputs": [],
   "source": [
    "classifier = RandomForestClassifier()\n",
    "#classifier = XGBClassifier()\n",
    "#classifier = HistGradientBoostingClassifier()\n",
    "\n",
    "pipe = make_pipeline(\n",
    "    classifier\n",
    ")"
   ]
  },
  {
   "cell_type": "code",
   "execution_count": 8,
   "id": "e4eec52e",
   "metadata": {},
   "outputs": [
    {
     "data": {
      "text/plain": [
       "Pipeline(steps=[('randomforestclassifier', RandomForestClassifier())])"
      ]
     },
     "execution_count": 8,
     "metadata": {},
     "output_type": "execute_result"
    }
   ],
   "source": [
    "#pipe.fit(pca_train, train_data['Cover_Type'])\n",
    "pipe.fit(fe_train_data.drop(columns=['Cover_Type']), fe_train_data['Cover_Type'])"
   ]
  },
  {
   "cell_type": "code",
   "execution_count": 6,
   "id": "86d6a2c0",
   "metadata": {},
   "outputs": [],
   "source": [
    "def predict(pipe, data, outfile):\n",
    "    ids = data['Id']\n",
    "    prediction = pipe.predict(data)\n",
    "    output = pd.DataFrame(prediction, index=ids, columns=['Cover_Type'])\n",
    "    output.to_csv(\"submissions/\" + outfile + \".csv\", index=True)"
   ]
  },
  {
   "cell_type": "code",
   "execution_count": 11,
   "id": "7ea9997c",
   "metadata": {},
   "outputs": [],
   "source": [
    "predict(pipe, fe_test_data, 'RandomForestClassifier2')"
   ]
  },
  {
   "cell_type": "code",
   "execution_count": null,
   "id": "156f9ecd",
   "metadata": {},
   "outputs": [],
   "source": []
  }
 ],
 "metadata": {
  "kernelspec": {
   "display_name": "Python 3 (ipykernel)",
   "language": "python",
   "name": "python3"
  },
  "language_info": {
   "codemirror_mode": {
    "name": "ipython",
    "version": 3
   },
   "file_extension": ".py",
   "mimetype": "text/x-python",
   "name": "python",
   "nbconvert_exporter": "python",
   "pygments_lexer": "ipython3",
   "version": "3.8.12"
  }
 },
 "nbformat": 4,
 "nbformat_minor": 5
}
